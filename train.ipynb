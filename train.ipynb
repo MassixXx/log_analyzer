{
 "cells": [
  {
   "cell_type": "code",
   "execution_count": 3,
   "id": "5404ef10",
   "metadata": {},
   "outputs": [],
   "source": [
    "from utils import log_to_token_seq, split_log\n",
    "import pandas as pd\n"
   ]
  },
  {
   "cell_type": "code",
   "execution_count": 4,
   "id": "3bc42339",
   "metadata": {},
   "outputs": [],
   "source": [
    "template_paths = [\n",
    "    r\"nulog\\logs\\Linux\\Linux_2k.log_templates.csv\",\n",
    "    r\"nulog\\logs\\Andriod\\Andriod_2k.log_templates.csv\",     \n",
    "    r\"nulog\\logs\\Apache\\Apache_2k.log_templates.csv\",\n",
    "    r\"nulog\\logs\\BGL\\BGL_2k.log_templates.csv\",\n",
    "    r\"nulog\\logs\\Hadoop\\Hadoop_2k.log_templates.csv\",\n",
    "    r\"nulog\\logs\\HDFS\\HDFS_2k.log_templates.csv\",\n",
    "    r\"nulog\\logs\\HealthApp\\HealthApp_2k.log_templates.csv\",\n",
    "    r\"nulog\\logs\\HPC\\HPC_2k.log_templates.csv\",\n",
    "    r\"nulog\\logs\\Mac\\Mac_2k.log_templates.csv\",\n",
    "    r\"nulog\\logs\\OpenSSH\\OpenSSH_2k.log_templates.csv\",\n",
    "    r\"nulog\\logs\\OpenStack\\OpenStack_2k.log_templates.csv\",\n",
    "    r\"nulog\\logs\\Proxifier\\Proxifier_2k.log_templates.csv\",\n",
    "    r\"nulog\\logs\\Spark\\Spark_2k.log_templates.csv\",\n",
    "    r\"nulog\\logs\\Thunderbird\\Thunderbird_2k.log_templates.csv\",\n",
    "    r\"nulog\\logs\\Windows\\Windows_2k.log_templates.csv\",\n",
    "    r\"nulog\\logs\\Zookeeper\\Zookeeper_2k.log_templates.csv\"\n",
    "    ]"
   ]
  },
  {
   "cell_type": "code",
   "execution_count": 5,
   "id": "93b0379d",
   "metadata": {},
   "outputs": [],
   "source": [
    "log_paths = [\n",
    "    r\"nulog\\logs\\Andriod\\Andriod_2k.log\",\n",
    "    r\"nulog\\logs\\Apache\\Apache_2k.log\",\n",
    "    r\"nulog\\logs\\BGL\\BGL_2k.log\",\n",
    "    r\"nulog\\logs\\Hadoop\\Hadoop_2k.log\",\n",
    "    r\"nulog\\logs\\HDFS\\HDFS_2k.log\",\n",
    "    r\"nulog\\logs\\HealthApp\\HealthApp_2k.log\",\n",
    "    r\"nulog\\logs\\HPC\\HPC_2k.log\",\n",
    "    r\"nulog\\logs\\Linux\\Linux_2k.log\",\n",
    "    r\"nulog\\logs\\Mac\\Mac_2k.log\",\n",
    "    r\"nulog\\logs\\OpenSSH\\OpenSSH_2k.log\",\n",
    "    r\"nulog\\logs\\OpenStack\\OpenStack_2k.log\",\n",
    "    r\"nulog\\logs\\Proxifier\\Proxifier_2k.log\",\n",
    "    r\"nulog\\logs\\Spark\\Spark_2k.log\",\n",
    "    r\"nulog\\logs\\Thunderbird\\Thunderbird_2k.log\",\n",
    "    r\"nulog\\logs\\Windows\\Windows_2k.log\",\n",
    "    r\"nulog\\logs\\Zookeeper\\Zookeeper_2k.log\"\n",
    "]"
   ]
  },
  {
   "cell_type": "code",
   "execution_count": 6,
   "id": "4e0eee32",
   "metadata": {},
   "outputs": [
    {
     "name": "stdout",
     "output_type": "stream",
     "text": [
      "3193\n"
     ]
    }
   ],
   "source": [
    "dictionary = set()\n",
    "\n",
    "for path in template_paths:\n",
    "\n",
    "    df = pd.read_csv(path)\n",
    "\n",
    "    for log in df[\"EventTemplate\"]:\n",
    "        tokens = split_log(log)\n",
    "        \n",
    "        for token in tokens:\n",
    "            if token != '<*>':\n",
    "                dictionary.add(token)\n",
    "\n",
    "print(len(dictionary))"
   ]
  },
  {
   "cell_type": "code",
   "execution_count": 7,
   "id": "8204ff87",
   "metadata": {},
   "outputs": [],
   "source": [
    "data = []"
   ]
  },
  {
   "cell_type": "code",
   "execution_count": 8,
   "id": "426f9887",
   "metadata": {},
   "outputs": [],
   "source": [
    "max_length = 0\n",
    "for log_path in log_paths:\n",
    "    with open(log_path) as f:\n",
    "        log = f.readline()\n",
    "        while log:\n",
    "            tok_seq = log_to_token_seq(log, 10)\n",
    "            if len(tok_seq) > max_length:\n",
    "                max_length = len(tok_seq)\n",
    "            data.append(tok_seq)\n",
    "            log = f.readline()"
   ]
  },
  {
   "cell_type": "code",
   "execution_count": 9,
   "id": "ebf400f7",
   "metadata": {},
   "outputs": [
    {
     "data": {
      "text/plain": [
       "32000"
      ]
     },
     "execution_count": 9,
     "metadata": {},
     "output_type": "execute_result"
    }
   ],
   "source": [
    "len(data)"
   ]
  },
  {
   "cell_type": "code",
   "execution_count": 10,
   "id": "969968c2",
   "metadata": {},
   "outputs": [
    {
     "data": {
      "text/plain": [
       "300"
      ]
     },
     "execution_count": 10,
     "metadata": {},
     "output_type": "execute_result"
    }
   ],
   "source": [
    "max_length"
   ]
  },
  {
   "cell_type": "code",
   "execution_count": null,
   "id": "cb8b1295",
   "metadata": {},
   "outputs": [],
   "source": []
  },
  {
   "cell_type": "code",
   "execution_count": 11,
   "id": "b6b6b0fb",
   "metadata": {},
   "outputs": [],
   "source": [
    "import torch\n",
    "from torch.utils.data import Dataset\n",
    "import random"
   ]
  },
  {
   "cell_type": "code",
   "execution_count": 12,
   "id": "ddfb3f45",
   "metadata": {},
   "outputs": [
    {
     "name": "stdout",
     "output_type": "stream",
     "text": [
      "Using device: cuda\n"
     ]
    }
   ],
   "source": [
    "device = torch.device(\"cuda\" if torch.cuda.is_available() else \"cpu\")\n",
    "print(f\"Using device: {device}\")"
   ]
  },
  {
   "cell_type": "code",
   "execution_count": 13,
   "id": "9da78d8d",
   "metadata": {},
   "outputs": [
    {
     "data": {
      "text/plain": [
       "tensor([0.], device='cuda:0')"
      ]
     },
     "execution_count": 13,
     "metadata": {},
     "output_type": "execute_result"
    }
   ],
   "source": [
    "torch.zeros(1).cuda()\n"
   ]
  },
  {
   "cell_type": "code",
   "execution_count": 14,
   "id": "251b3714",
   "metadata": {},
   "outputs": [],
   "source": [
    "class LogDataset(Dataset):\n",
    "    def __init__(self, log_paths, vocab_size, max_length=300, mask_prob=0.15):\n",
    "        self.log_paths = log_paths\n",
    "        self.vocab_size = vocab_size\n",
    "        self.max_length = max_length\n",
    "        self.mask_prob = mask_prob\n",
    "        self.special_offset = 10\n",
    "    \n",
    "        self.logs = []\n",
    "        \n",
    "        for log_path in self.log_paths:\n",
    "            with open(log_path) as f:\n",
    "                log = f.readline()\n",
    "                while log:\n",
    "                    tok_seq = log_to_token_seq(log, self.special_offset)\n",
    "                    self.logs.append(tok_seq)\n",
    "                    log = f.readline()\n",
    "\n",
    "    def __len__(self):\n",
    "        return len(self.logs)\n",
    "    \n",
    "    def __getitem__(self, idx):\n",
    "        tokens = self.logs[idx][:self.max_length]\n",
    "        input_ids = tokens + [0] * (self.max_length - len(tokens))  # Pad\n",
    "        labels = [-100] * self.max_length  # Ignore positions not masked\n",
    "\n",
    "        for i in range(len(tokens)):\n",
    "            if random.random() < self.mask_prob:\n",
    "                prob = random.random()\n",
    "                labels[i] = input_ids[i]  # Store the original value\n",
    "\n",
    "                if prob < 0.8:\n",
    "                    input_ids[i] = 1  # [MASK]\n",
    "                elif prob < 0.9:\n",
    "                    input_ids[i] = random.randint(self.special_offset, self.vocab_size - 1)\n",
    "                else:\n",
    "                    pass  # Keep original\n",
    "\n",
    "        attention_mask = [1 if t != 0 else 0 for t in input_ids]\n",
    "\n",
    "        return {\n",
    "            \"input_ids\": torch.tensor(input_ids, dtype=torch.long),\n",
    "            \"attention_mask\": torch.tensor(attention_mask, dtype=torch.long),\n",
    "            \"labels\": torch.tensor(labels, dtype=torch.long)\n",
    "        }"
   ]
  },
  {
   "cell_type": "code",
   "execution_count": 15,
   "id": "67d801ce",
   "metadata": {},
   "outputs": [
    {
     "name": "stdout",
     "output_type": "stream",
     "text": [
      "{'input_ids': tensor([[ 1284, 18675, 24948,  ...,     0,     0,     0],\n",
      "        [17038, 22929, 16775,  ...,     0,     0,     0],\n",
      "        [ 1284,     1,     1,  ...,     0,     0,     0],\n",
      "        ...,\n",
      "        [24713,  1284,     1,  ...,     0,     0,     0],\n",
      "        [ 1284, 17654, 24948,  ...,     0,     0,     0],\n",
      "        [21334, 25292,  2155,  ...,     0,     0,     0]]), 'attention_mask': tensor([[1, 1, 1,  ..., 0, 0, 0],\n",
      "        [1, 1, 1,  ..., 0, 0, 0],\n",
      "        [1, 1, 1,  ..., 0, 0, 0],\n",
      "        ...,\n",
      "        [1, 1, 1,  ..., 0, 0, 0],\n",
      "        [1, 1, 1,  ..., 0, 0, 0],\n",
      "        [1, 1, 1,  ..., 0, 0, 0]]), 'labels': tensor([[ -100,  -100,  -100,  ...,  -100,  -100,  -100],\n",
      "        [ -100,  -100,  -100,  ...,  -100,  -100,  -100],\n",
      "        [ 1284, 16972, 24948,  ...,  -100,  -100,  -100],\n",
      "        ...,\n",
      "        [ -100,  -100,  1956,  ...,  -100,  -100,  -100],\n",
      "        [ -100,  -100,  -100,  ...,  -100,  -100,  -100],\n",
      "        [ -100,  -100,  -100,  ...,  -100,  -100,  -100]])}\n"
     ]
    }
   ],
   "source": [
    "dataset = LogDataset(log_paths, 30000)\n",
    "from torch.utils.data import DataLoader \n",
    "dataloader = DataLoader(dataset, batch_size=8, shuffle=True)\n",
    "\n",
    "batch = next(iter(dataloader))\n",
    "print(batch)"
   ]
  },
  {
   "cell_type": "code",
   "execution_count": 16,
   "id": "b5a34c53",
   "metadata": {},
   "outputs": [
    {
     "name": "stderr",
     "output_type": "stream",
     "text": [
      "c:\\Users\\I753367\\OneDrive - SAP SE\\Documents\\Univ\\NLP\\log_analyzer\\.venv\\Lib\\site-packages\\tqdm\\auto.py:21: TqdmWarning: IProgress not found. Please update jupyter and ipywidgets. See https://ipywidgets.readthedocs.io/en/stable/user_install.html\n",
      "  from .autonotebook import tqdm as notebook_tqdm\n"
     ]
    }
   ],
   "source": [
    "from transformers import BertConfig, BertForMaskedLM, Trainer, TrainingArguments\n",
    "from torch.utils.data import random_split\n",
    "\n",
    "# Step 1: Define model config\n",
    "config = BertConfig(\n",
    "    vocab_size=30000,           # keep this as is\n",
    "    max_position_embeddings=300,  # fine\n",
    "    num_attention_heads=4,      # ↓ reduce attention heads\n",
    "    num_hidden_layers=4,        # ↓ fewer transformer blocks\n",
    "    type_vocab_size=1,\n",
    "    hidden_size=256,            # ↓ smaller embedding and hidden dims\n",
    "    intermediate_size=1024,     # ↓ smaller feed-forward layer\n",
    ")\n",
    "# Step 2: Create model\n",
    "model = BertForMaskedLM(config)\n",
    "model = model.to(device)"
   ]
  },
  {
   "cell_type": "code",
   "execution_count": 17,
   "id": "aba874e7",
   "metadata": {},
   "outputs": [],
   "source": [
    "# Assuming `dataset` is your preprocessed LogTokenDataset\n",
    "train_size = int(0.9 * len(dataset))\n",
    "val_size = len(dataset) - train_size\n",
    "train_dataset, val_dataset = random_split(dataset, [train_size, val_size])\n"
   ]
  },
  {
   "cell_type": "code",
   "execution_count": 18,
   "id": "c76ae23b",
   "metadata": {},
   "outputs": [],
   "source": [
    "training_args = TrainingArguments(\n",
    "    output_dir=\"./results\",\n",
    "    eval_strategy=\"steps\",\n",
    "    learning_rate=2e-5,\n",
    "    per_device_train_batch_size=16,\n",
    "    per_device_eval_batch_size=16,\n",
    "    num_train_epochs=3,\n",
    "    weight_decay=0.01,\n",
    "    logging_dir=\"./logs\",\n",
    "    logging_steps=10,\n",
    "    save_steps=500,\n",
    "    load_best_model_at_end=True,\n",
    ")"
   ]
  },
  {
   "cell_type": "code",
   "execution_count": 19,
   "id": "f34c4695",
   "metadata": {},
   "outputs": [],
   "source": [
    "trainer = Trainer(\n",
    "    model=model,\n",
    "    args=training_args,\n",
    "    train_dataset=train_dataset,\n",
    "    eval_dataset=val_dataset,\n",
    ")\n"
   ]
  },
  {
   "cell_type": "code",
   "execution_count": null,
   "id": "243734e1",
   "metadata": {},
   "outputs": [
    {
     "data": {
      "text/html": [
       "\n",
       "    <div>\n",
       "      \n",
       "      <progress value='221' max='5400' style='width:300px; height:20px; vertical-align: middle;'></progress>\n",
       "      [ 221/5400 02:54 < 1:08:50, 1.25 it/s, Epoch 0.12/3]\n",
       "    </div>\n",
       "    <table border=\"1\" class=\"dataframe\">\n",
       "  <thead>\n",
       " <tr style=\"text-align: left;\">\n",
       "      <th>Step</th>\n",
       "      <th>Training Loss</th>\n",
       "      <th>Validation Loss</th>\n",
       "    </tr>\n",
       "  </thead>\n",
       "  <tbody>\n",
       "    <tr>\n",
       "      <td>10</td>\n",
       "      <td>10.297000</td>\n",
       "      <td>10.219909</td>\n",
       "    </tr>\n",
       "    <tr>\n",
       "      <td>20</td>\n",
       "      <td>10.184700</td>\n",
       "      <td>10.083426</td>\n",
       "    </tr>\n",
       "    <tr>\n",
       "      <td>30</td>\n",
       "      <td>10.086200</td>\n",
       "      <td>9.961554</td>\n",
       "    </tr>\n",
       "    <tr>\n",
       "      <td>40</td>\n",
       "      <td>9.946700</td>\n",
       "      <td>9.867284</td>\n",
       "    </tr>\n",
       "    <tr>\n",
       "      <td>50</td>\n",
       "      <td>9.764900</td>\n",
       "      <td>9.773114</td>\n",
       "    </tr>\n",
       "    <tr>\n",
       "      <td>60</td>\n",
       "      <td>9.728600</td>\n",
       "      <td>9.667300</td>\n",
       "    </tr>\n",
       "    <tr>\n",
       "      <td>70</td>\n",
       "      <td>9.685200</td>\n",
       "      <td>9.559312</td>\n",
       "    </tr>\n",
       "    <tr>\n",
       "      <td>80</td>\n",
       "      <td>9.517700</td>\n",
       "      <td>9.469193</td>\n",
       "    </tr>\n",
       "    <tr>\n",
       "      <td>90</td>\n",
       "      <td>9.481400</td>\n",
       "      <td>9.374647</td>\n",
       "    </tr>\n",
       "    <tr>\n",
       "      <td>100</td>\n",
       "      <td>9.339100</td>\n",
       "      <td>9.303562</td>\n",
       "    </tr>\n",
       "    <tr>\n",
       "      <td>110</td>\n",
       "      <td>9.287300</td>\n",
       "      <td>9.237068</td>\n",
       "    </tr>\n",
       "    <tr>\n",
       "      <td>120</td>\n",
       "      <td>9.236500</td>\n",
       "      <td>9.162305</td>\n",
       "    </tr>\n",
       "    <tr>\n",
       "      <td>130</td>\n",
       "      <td>9.117800</td>\n",
       "      <td>9.080936</td>\n",
       "    </tr>\n",
       "    <tr>\n",
       "      <td>140</td>\n",
       "      <td>9.134200</td>\n",
       "      <td>9.014695</td>\n",
       "    </tr>\n",
       "    <tr>\n",
       "      <td>150</td>\n",
       "      <td>9.011700</td>\n",
       "      <td>8.932328</td>\n",
       "    </tr>\n",
       "    <tr>\n",
       "      <td>160</td>\n",
       "      <td>8.951200</td>\n",
       "      <td>8.880407</td>\n",
       "    </tr>\n",
       "    <tr>\n",
       "      <td>170</td>\n",
       "      <td>8.786400</td>\n",
       "      <td>8.785118</td>\n",
       "    </tr>\n",
       "    <tr>\n",
       "      <td>180</td>\n",
       "      <td>8.802100</td>\n",
       "      <td>8.741634</td>\n",
       "    </tr>\n",
       "    <tr>\n",
       "      <td>190</td>\n",
       "      <td>8.797400</td>\n",
       "      <td>8.669369</td>\n",
       "    </tr>\n",
       "    <tr>\n",
       "      <td>200</td>\n",
       "      <td>8.595700</td>\n",
       "      <td>8.594740</td>\n",
       "    </tr>\n",
       "    <tr>\n",
       "      <td>210</td>\n",
       "      <td>8.586100</td>\n",
       "      <td>8.538111</td>\n",
       "    </tr>\n",
       "  </tbody>\n",
       "</table><p>\n",
       "    <div>\n",
       "      \n",
       "      <progress value='59' max='200' style='width:300px; height:20px; vertical-align: middle;'></progress>\n",
       "      [ 59/200 00:02 < 00:07, 19.84 it/s]\n",
       "    </div>\n",
       "    "
      ],
      "text/plain": [
       "<IPython.core.display.HTML object>"
      ]
     },
     "metadata": {},
     "output_type": "display_data"
    }
   ],
   "source": [
    "trainer.train()"
   ]
  },
  {
   "cell_type": "code",
   "execution_count": null,
   "id": "a26f09e3",
   "metadata": {},
   "outputs": [],
   "source": []
  }
 ],
 "metadata": {
  "kernelspec": {
   "display_name": ".venv",
   "language": "python",
   "name": "python3"
  },
  "language_info": {
   "codemirror_mode": {
    "name": "ipython",
    "version": 3
   },
   "file_extension": ".py",
   "mimetype": "text/x-python",
   "name": "python",
   "nbconvert_exporter": "python",
   "pygments_lexer": "ipython3",
   "version": "3.11.9"
  }
 },
 "nbformat": 4,
 "nbformat_minor": 5
}
