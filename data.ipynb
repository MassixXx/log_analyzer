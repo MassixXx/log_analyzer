{
 "cells": [
  {
   "cell_type": "code",
   "execution_count": 3,
   "id": "3b3425e9",
   "metadata": {},
   "outputs": [],
   "source": [
    "import os\n",
    "import pandas as pd\n"
   ]
  },
  {
   "cell_type": "code",
   "execution_count": 4,
   "id": "afe05934",
   "metadata": {},
   "outputs": [],
   "source": [
    "import re\n",
    "\n",
    "def split_log(log: str):\n",
    "    # Priority patterns (put <*> at the top to match it first)\n",
    "    patterns = [\n",
    "        r'<\\*>',                                      # The <*> token\n",
    "        r'\\b\\d{1,3}(?:\\.\\d{1,3}){3}\\b',               # IP addresses\n",
    "        r'\\b[\\w\\.-]+@[\\w\\.-]+\\.\\w{2,}\\b',             # Email addresses\n",
    "        r'\\b\\d{4}-\\d{2}-\\d{2}\\b',                     # Date: YYYY-MM-DD\n",
    "        r'\\b\\d{2}/\\d{2}/\\d{4}\\b',                     # Date: DD/MM/YYYY\n",
    "        r'\\b\\d{2}:\\d{2}:\\d{2}\\b',                     # Time: HH:MM:SS\n",
    "        r'\\b\\d+\\b',                                   # Numbers\n",
    "        r'\\b\\w+\\b',                                   # Alphanumeric words\n",
    "        r'\\S'                                         # Other non-whitespace characters\n",
    "    ]\n",
    "\n",
    "    # Compile the full regex\n",
    "    combined_pattern = '|'.join(patterns)\n",
    "\n",
    "    # Find all tokens\n",
    "    tokens = re.findall(combined_pattern, log)\n",
    "\n",
    "    return tokens\n"
   ]
  },
  {
   "cell_type": "code",
   "execution_count": 5,
   "id": "7a12c9d8",
   "metadata": {},
   "outputs": [],
   "source": [
    "paths = [\n",
    "    r\"nulog\\logs\\Linux\\Linux_2k.log_templates.csv\",\n",
    "    r\"nulog\\logs\\Andriod\\Andriod_2k.log_templates.csv\",     \n",
    "    r\"nulog\\logs\\Apache\\Apache_2k.log_templates.csv\",\n",
    "    r\"nulog\\logs\\BGL\\BGL_2k.log_templates.csv\",\n",
    "    r\"nulog\\logs\\Hadoop\\Hadoop_2k.log_templates.csv\",\n",
    "    r\"nulog\\logs\\HDFS\\HDFS_2k.log_templates.csv\",\n",
    "    r\"nulog\\logs\\HealthApp\\HealthApp_2k.log_templates.csv\",\n",
    "    r\"nulog\\logs\\HPC\\HPC_2k.log_templates.csv\",\n",
    "    r\"nulog\\logs\\Mac\\Mac_2k.log_templates.csv\",\n",
    "    r\"nulog\\logs\\OpenSSH\\OpenSSH_2k.log_templates.csv\",\n",
    "    r\"nulog\\logs\\OpenStack\\OpenStack_2k.log_templates.csv\",\n",
    "    r\"nulog\\logs\\Proxifier\\Proxifier_2k.log_templates.csv\",\n",
    "    r\"nulog\\logs\\Spark\\Spark_2k.log_templates.csv\",\n",
    "    r\"nulog\\logs\\Thunderbird\\Thunderbird_2k.log_templates.csv\",\n",
    "    r\"nulog\\logs\\Windows\\Windows_2k.log_templates.csv\",\n",
    "    r\"nulog\\logs\\Zookeeper\\Zookeeper_2k.log_templates.csv\"\n",
    "    ]\n",
    "\n"
   ]
  },
  {
   "cell_type": "code",
   "execution_count": 6,
   "id": "e048bba5",
   "metadata": {},
   "outputs": [
    {
     "ename": "NameError",
     "evalue": "name 'df' is not defined",
     "output_type": "error",
     "traceback": [
      "\u001b[1;31m---------------------------------------------------------------------------\u001b[0m",
      "\u001b[1;31mNameError\u001b[0m                                 Traceback (most recent call last)",
      "Cell \u001b[1;32mIn[6], line 1\u001b[0m\n\u001b[1;32m----> 1\u001b[0m example \u001b[38;5;241m=\u001b[39m \u001b[43mdf\u001b[49m[\u001b[38;5;124m\"\u001b[39m\u001b[38;5;124mEventTemplate\u001b[39m\u001b[38;5;124m\"\u001b[39m][\u001b[38;5;241m12\u001b[39m]\n\u001b[0;32m      2\u001b[0m example\n",
      "\u001b[1;31mNameError\u001b[0m: name 'df' is not defined"
     ]
    }
   ],
   "source": [
    "example = df[\"EventTemplate\"][12]\n",
    "example"
   ]
  },
  {
   "cell_type": "code",
   "execution_count": 7,
   "id": "7f9fd6b0",
   "metadata": {},
   "outputs": [
    {
     "ename": "NameError",
     "evalue": "name 'example' is not defined",
     "output_type": "error",
     "traceback": [
      "\u001b[1;31m---------------------------------------------------------------------------\u001b[0m",
      "\u001b[1;31mNameError\u001b[0m                                 Traceback (most recent call last)",
      "Cell \u001b[1;32mIn[7], line 1\u001b[0m\n\u001b[1;32m----> 1\u001b[0m split_log(\u001b[43mexample\u001b[49m)\n",
      "\u001b[1;31mNameError\u001b[0m: name 'example' is not defined"
     ]
    }
   ],
   "source": [
    "split_log(example)"
   ]
  },
  {
   "cell_type": "code",
   "execution_count": 20,
   "id": "0676f170",
   "metadata": {},
   "outputs": [],
   "source": [
    "dictionary = set()"
   ]
  },
  {
   "cell_type": "code",
   "execution_count": 21,
   "id": "4f5fa292",
   "metadata": {},
   "outputs": [],
   "source": [
    "for path in paths:\n",
    "\n",
    "    df = pd.read_csv(path)\n",
    "\n",
    "    for log in df[\"EventTemplate\"]:\n",
    "        tokens = split_log(log)\n",
    "        \n",
    "        for token in tokens:\n",
    "            if token != '<*>':\n",
    "                dictionary.add(token)"
   ]
  },
  {
   "cell_type": "code",
   "execution_count": 22,
   "id": "91122bfa",
   "metadata": {},
   "outputs": [
    {
     "data": {
      "text/plain": [
       "3193"
      ]
     },
     "execution_count": 22,
     "metadata": {},
     "output_type": "execute_result"
    }
   ],
   "source": [
    "len(dictionary)"
   ]
  },
  {
   "cell_type": "code",
   "execution_count": 11,
   "id": "6d5a7620",
   "metadata": {},
   "outputs": [],
   "source": [
    "import hashlib\n",
    "import socket\n",
    "import struct\n",
    "import re\n",
    "\n",
    "def stable_hash(value: str, mod: int, offset: int) -> int:\n",
    "    \"\"\"Hash a string value to a range [offset, offset+mod-1].\"\"\"\n",
    "    h = int(hashlib.md5(value.encode()).hexdigest(), 16)\n",
    "    return offset + (h % mod)\n"
   ]
  },
  {
   "cell_type": "code",
   "execution_count": 12,
   "id": "48702b73",
   "metadata": {},
   "outputs": [],
   "source": [
    "def hash_ip(ip: str) -> int:\n",
    "    \"\"\"Hash IP address into [1000–1999]\"\"\"\n",
    "    try:\n",
    "        packed_ip = struct.unpack(\"!I\", socket.inet_aton(ip))[0]\n",
    "        return 10000 + (packed_ip % 3000)\n",
    "    except Exception:\n",
    "        return stable_hash(ip, 3000, 10000)\n",
    "\n",
    "def hash_email(email: str) -> int:\n",
    "    \"\"\"Hash email into [2000–2999]\"\"\"\n",
    "    return stable_hash(email.lower(), 3000, 13000)\n",
    "\n",
    "def hash_large_number(number_str: str) -> int:\n",
    "    \"\"\"Hash numbers > 10000 into [3000–3999]\"\"\"\n",
    "    return stable_hash(number_str, 3000, 16000)\n",
    "\n",
    "def hash_date(date_str: str) -> int:\n",
    "    \"\"\"Hash date string into [4000–4999]\"\"\"\n",
    "    return stable_hash(date_str, 3000, 19000)\n",
    "\n",
    "def hash_oov_word(word: str) -> int:\n",
    "    \"\"\"Hash unknown word into [5000–5999]\"\"\"\n",
    "    return stable_hash(word.lower(), 3000, 22000)\n",
    "\n",
    "def hash_unknown(token: str) -> int:\n",
    "    \"\"\"Catch-all hash into [6000–6999]\"\"\"\n",
    "    return stable_hash(token, 3000, 25000)\n"
   ]
  },
  {
   "cell_type": "code",
   "execution_count": 13,
   "id": "2213b908",
   "metadata": {},
   "outputs": [
    {
     "name": "stdout",
     "output_type": "stream",
     "text": [
      "12521\n",
      "15906\n",
      "18358\n",
      "20214\n",
      "22835\n",
      "25226\n"
     ]
    }
   ],
   "source": [
    "print(hash_ip(\"192.168.0.1\"))         # ➜ 1000–1999\n",
    "print(hash_email(\"admin@test.com\"))   # ➜ 2000–2999\n",
    "print(hash_large_number(\"123456\"))    # ➜ 3000–3999\n",
    "print(hash_date(\"2024-04-08\"))        # ➜ 4000–4999\n",
    "print(hash_oov_word(\"john123\"))       # ➜ 5000–5999\n",
    "print(hash_unknown(\"!!!\"))            # ➜ 6000–6999\n"
   ]
  },
  {
   "cell_type": "code",
   "execution_count": 14,
   "id": "bb9818e3",
   "metadata": {},
   "outputs": [],
   "source": [
    "def hash_token(token: str) -> tuple[str, int]:\n",
    "    token = token.strip()\n",
    "\n",
    "    # Detect IP\n",
    "    ip_pattern = re.compile(r'^(\\d{1,3}\\.){3}\\d{1,3}$')\n",
    "    if ip_pattern.match(token):\n",
    "        return \"ip\", hash_ip(token)\n",
    "\n",
    "    # Detect email\n",
    "    email_pattern = re.compile(r'^[\\w\\.-]+@[\\w\\.-]+\\.\\w+$')\n",
    "    if email_pattern.match(token):\n",
    "        return \"email\", hash_email(token)\n",
    "\n",
    "    # Detect date\n",
    "    date_patterns = [\n",
    "        r'^\\d{4}-\\d{2}-\\d{2}$',           # 2025-04-08\n",
    "        r'^\\d{2}/\\d{2}/\\d{4}$',           # 08/04/2025\n",
    "        r'^\\d{4}/\\d{2}/\\d{2}$',           # 2025/04/08\n",
    "        r'^\\d{2}-\\d{2}-\\d{4}$',           # 08-04-2025\n",
    "        r'^\\d{4}\\.\\d{2}\\.\\d{2}$',         # 2025.04.08\n",
    "    ]\n",
    "    for pat in date_patterns:\n",
    "        if re.match(pat, token):\n",
    "            return \"date\", hash_date(token)\n",
    "\n",
    "    # Detect large number\n",
    "    if token.isdigit() and int(token) > 10000:\n",
    "        return \"large_number\", hash_large_number(token)\n",
    "\n",
    "    # Detect OOV word (contains letters and/or numbers)\n",
    "    if re.match(r'^[\\w\\-]+$', token):\n",
    "        return \"word\", hash_oov_word(token)\n",
    "\n",
    "    # Fallback\n",
    "    return \"other\", hash_unknown(token)\n"
   ]
  },
  {
   "cell_type": "code",
   "execution_count": 15,
   "id": "8ca8d947",
   "metadata": {},
   "outputs": [
    {
     "name": "stdout",
     "output_type": "stream",
     "text": [
      "192.168.0.1 → ip → 12521\n",
      "admin@example.com → email → 13745\n",
      "2025-04-08 → date → 20061\n",
      "123456 → large_number → 18358\n",
      "john123 → word → 22835\n",
      "<*> → other → 26512\n"
     ]
    }
   ],
   "source": [
    "examples = [\n",
    "    \"192.168.0.1\",\n",
    "    \"admin@example.com\",\n",
    "    \"2025-04-08\",\n",
    "    \"123456\",\n",
    "    \"john123\",\n",
    "    \"<*>\"\n",
    "]\n",
    "\n",
    "for t in examples:\n",
    "    kind, hashed = hash_token(t)\n",
    "    print(f\"{t} → {kind} → {hashed}\")"
   ]
  },
  {
   "cell_type": "code",
   "execution_count": null,
   "id": "8266153c",
   "metadata": {},
   "outputs": [],
   "source": [
    "def log_to_token_seq(log):\n",
    "    tokens = split_log(log)\n",
    "    return [hash_token(t)[1] for t in tokens]\n",
    "        "
   ]
  }
 ],
 "metadata": {
  "kernelspec": {
   "display_name": "Python 3",
   "language": "python",
   "name": "python3"
  },
  "language_info": {
   "codemirror_mode": {
    "name": "ipython",
    "version": 3
   },
   "file_extension": ".py",
   "mimetype": "text/x-python",
   "name": "python",
   "nbconvert_exporter": "python",
   "pygments_lexer": "ipython3",
   "version": "3.11.9"
  }
 },
 "nbformat": 4,
 "nbformat_minor": 5
}
